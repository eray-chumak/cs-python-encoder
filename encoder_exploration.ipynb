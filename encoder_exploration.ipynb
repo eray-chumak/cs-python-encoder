{
 "cells": [
  {
   "cell_type": "markdown",
   "metadata": {},
   "source": [
    "# ENCODER PROJECT | PRACTICE NOTEBOOK\n",
    "\n",
    "This notebook will give you all the skills you need to code your Encoder Project."
   ]
  },
  {
   "cell_type": "markdown",
   "metadata": {},
   "source": [
    "## READING FROM FILES\n",
    "\n",
    "In order to work with files you need a variable called a FILE HANDLE - think of it as the variable you can then use to GRAB the file\n",
    "\n",
    "Suppose you want to write to a file called work.txt  here's how you would create it (if it does not yet exist) and open it."
   ]
  },
  {
   "cell_type": "code",
   "execution_count": 7,
   "metadata": {},
   "outputs": [
    {
     "data": {
      "text/plain": [
       "''"
      ]
     },
     "execution_count": 7,
     "metadata": {},
     "output_type": "execute_result"
    }
   ],
   "source": [
    "f = open('input.txt', 'r')"
   ]
  },
  {
   "cell_type": "code",
   "execution_count": 2,
   "metadata": {},
   "outputs": [
    {
     "data": {
      "text/plain": [
       "<_io.TextIOWrapper name='work.txt' mode='w' encoding='UTF-8'>"
      ]
     },
     "execution_count": 2,
     "metadata": {},
     "output_type": "execute_result"
    }
   ],
   "source": [
    "f"
   ]
  },
  {
   "cell_type": "markdown",
   "metadata": {},
   "source": [
    "### [1] QUESTION:\n",
    "\n",
    "What happened?\n",
    "\n",
    "### [1] ANSWER:\n",
    "The open() function opens the file called \"input.txt\" and returns the TextIOWrapper object of it."
   ]
  },
  {
   "cell_type": "markdown",
   "metadata": {},
   "source": [
    "### [2] QUESTION\n",
    "\n",
    "The line of code above opens a file for WRITING - how could you change it to open a file for READING?\n",
    "\n",
    "### [2] ANSWER:\n",
    "To open the file for reading, the character 'w', standing for write, needs to be changed to 'r' standing for read.\n",
    "\n",
    "To get the contents of the file though, you need to do file.read().\n",
    "\n",
    "```python\n",
    "f = open(\"input.txt\", \"r\")\n",
    "```"
   ]
  },
  {
   "cell_type": "markdown",
   "metadata": {},
   "source": [
    "### TASK:\n",
    "Put some words into the file (open it up and type them in!). One on each line, or separated by commas if there are more than one word per line. Start like this for instance:\n",
    "\n",
    "```\n",
    "apple, banana, pear\n",
    "grapefruit\n",
    "grape, satsuma, watermelon\n",
    "litchi\n",
    "```"
   ]
  },
  {
   "cell_type": "code",
   "execution_count": 14,
   "metadata": {},
   "outputs": [
    {
     "data": {
      "text/plain": [
       "['apple, banana, pear\\n',\n",
       " 'grapefruit\\n',\n",
       " 'grape, satsuma, watermelon\\n',\n",
       " 'litchi\\n']"
      ]
     },
     "execution_count": 14,
     "metadata": {},
     "output_type": "execute_result"
    }
   ],
   "source": [
    "f = open('work.txt', 'r')\n",
    "fileContents = f.readlines()\n",
    "fileContents"
   ]
  },
  {
   "cell_type": "markdown",
   "metadata": {},
   "source": [
    "### [3] QUESTION:\n",
    "\n",
    "What **data type** is fileContents?\n",
    "\n",
    "### [3] ANSWER:\n",
    "An array."
   ]
  },
  {
   "cell_type": "code",
   "execution_count": 36,
   "metadata": {},
   "outputs": [
    {
     "data": {
      "text/plain": [
       "'apple, banana, pear\\ngrapefruit\\ngrape, satsuma, watermelon\\nlitchi'"
      ]
     },
     "execution_count": 36,
     "metadata": {},
     "output_type": "execute_result"
    }
   ],
   "source": [
    "f = open('work.txt', 'r')\n",
    "fileContents = f.read()\n",
    "fileContents"
   ]
  },
  {
   "cell_type": "markdown",
   "metadata": {},
   "source": [
    "### [4] QUESTION:\n",
    "\n",
    "What **data type** is fileContents now? **Why?**\n",
    "\n",
    "### [4] ANSWER:\n",
    "A single string with '\\n' representing a new line within the file.\n",
    "\n",
    "readlines() function seperates each line of the file into a new element within an array which allows you to easily iterate through or do something else."
   ]
  },
  {
   "cell_type": "markdown",
   "metadata": {},
   "source": [
    "### Think\n",
    "\n",
    "Do you notice that you have a newline character ```\\n``` at the end of each line  in the file? That's because you typed ENTER after each line and this is a valid character and so is read like any other\n",
    "\n",
    "so you need to remove the newline character... \n",
    "\n",
    "Also, we've got to choose where to go with lists (of strings) like these:\n",
    "\n",
    "``` python\n",
    "['apple, banana, pear\\n',\n",
    " 'grapefruit\\n',\n",
    " 'grape, satsuma, watermelon\\n',\n",
    " 'litchi'] \n",
    "```\n",
    "or strings like these:\n",
    "\n",
    "``` python\n",
    "'apple, banana, pear\\ngrapefruit\\ngrape, satsuma, watermelon\\nlitchi'\n",
    "```\n",
    "and then turn either one into a *clean* list of strings like this:\n",
    "``` python\n",
    "['apple', 'banana', 'pear','grapefruit','grape', 'satsuma', 'watermelon','litchi'] \n",
    "```\n"
   ]
  },
  {
   "cell_type": "markdown",
   "metadata": {},
   "source": [
    "### STRING METHODS\n",
    "\n",
    "https://docs.python.org/3.3/library/stdtypes.html#string-methods"
   ]
  },
  {
   "cell_type": "markdown",
   "metadata": {},
   "source": [
    "### SPLIT\n",
    "\n",
    "```python\n",
    "    str.split(sep=None)\n",
    "```"
   ]
  },
  {
   "cell_type": "code",
   "execution_count": 15,
   "metadata": {},
   "outputs": [
    {
     "data": {
      "text/plain": [
       "['This is a l',\n",
       " 'ng example string, @ with l',\n",
       " 'ts ',\n",
       " 'f different @&% bits 012xyz']"
      ]
     },
     "execution_count": 15,
     "metadata": {},
     "output_type": "execute_result"
    }
   ],
   "source": [
    "s = \"This is a long example string, @ with lots of different @&% bits 012xyz\"\n",
    "s.split(\"o\") \n"
   ]
  },
  {
   "cell_type": "markdown",
   "metadata": {},
   "source": [
    "### WHAT DOES THE .split() FUNCTION?\n",
    "\n",
    "The .split() method accepts two arguments, first one being the actual string to split and the second to specify the splitter."
   ]
  },
  {
   "cell_type": "markdown",
   "metadata": {},
   "source": [
    "### Experiment  - STRIP\n",
    "\n",
    "```python\n",
    "str.strip(chars)\n",
    "```\n"
   ]
  },
  {
   "cell_type": "code",
   "execution_count": 11,
   "metadata": {},
   "outputs": [
    {
     "name": "stdout",
     "output_type": "stream",
     "text": [
      "hello world\n",
      "ello world\n",
      "ooohello worldoooo\n"
     ]
    }
   ],
   "source": [
    "s=\"ooohello worldoooo\"\n",
    "newS = s.strip(\"o\")\n",
    "print(newS)\n",
    "newS = s.strip(\"oh\")\n",
    "print(newS)\n",
    "newS = s.strip(\"r\")\n",
    "print(newS)"
   ]
  },
  {
   "cell_type": "markdown",
   "metadata": {},
   "source": [
    "## WHAT DOES THE .strip() METHOD DO?\n",
    "\n",
    "ANSWER"
   ]
  },
  {
   "cell_type": "markdown",
   "metadata": {},
   "source": [
    "## Task \n",
    "\n",
    "Write python code to\n",
    "- open the text file for reading\n",
    "- read the contents into a list or string (you choose)\n",
    "- create a list of strings with no newline characters\n",
    "- print the final list to see that you have been successful"
   ]
  },
  {
   "cell_type": "code",
   "execution_count": 12,
   "metadata": {},
   "outputs": [],
   "source": [
    "## your code here"
   ]
  },
  {
   "cell_type": "markdown",
   "metadata": {},
   "source": [
    "\n",
    "# Strings\n",
    "\n",
    "A string in python is built-in or standard data type that is made of a sequence of [Unicode](https://en.wikipedia.org/wiki/Unicode) characters. Strings are [immutable](https://en.wikibooks.org/wiki/Python_Programming/Data_Types#Mutable_vs_Immutable_Objects)\n",
    "\n",
    "e.g. \"hello\", \"abc123\", \"hello world\", \"CD9-023-4F%\" , \"I just can't get enough\"\n",
    "\n",
    "## NOTE ON SYNTAX: \n",
    "You can use single quotes in Python but we will always use double quotes because\n",
    "\n",
    "1) The you can write strings like  \"I just can't get enough\"\n",
    "\n",
    "2) Its more consistent with other langauges like C and Java\n",
    "\n",
    "## Manipulating Strings with python [String methods](https://docs.python.org/3.3/library/stdtypes.html#text-sequence-type-str)\n",
    "\n",
    "### Finding substrings or characters in Strings\n",
    "\n",
    "```python\n",
    "    str.find(sub)\n",
    "```\n",
    "Return the lowest index in the string where substring sub is found. Return -1 if sub is not found."
   ]
  },
  {
   "cell_type": "code",
   "execution_count": null,
   "metadata": {},
   "outputs": [],
   "source": [
    "s = \"we are the world\"\n",
    "s.find(\"are\")"
   ]
  },
  {
   "cell_type": "code",
   "execution_count": null,
   "metadata": {},
   "outputs": [],
   "source": [
    "s.find(\"z\")"
   ]
  },
  {
   "cell_type": "markdown",
   "metadata": {},
   "source": [
    "## Question\n",
    "\n",
    "What if the substring (which may be one character) appears twice?\n",
    "\n",
    "## Your Answer:\n",
    "\n",
    "*your answer here*"
   ]
  },
  {
   "cell_type": "markdown",
   "metadata": {},
   "source": [
    "### Removing substrings or characters in Strings\n",
    "\n",
    "Because Python strings are immutable there is no method for this, so you'll have to write a your own function. It will actually produce another string which can then just be assigned to the original string so its seems like its changed, but actually the variable is pointing to another part of memory. This means lots of variables are created in memory that can no longer be accessed and so as not to waste memory Python will need to done some [garbage collection](https://docs.python.org/3/glossary.html#term-garbage-collection). Luckily Python does this for you\n"
   ]
  },
  {
   "cell_type": "code",
   "execution_count": 23,
   "metadata": {},
   "outputs": [],
   "source": [
    "#This function removes the character c from the string s\n",
    "def removeCharFromString(c, s):\n",
    "    \n",
    "    return s\n",
    "    "
   ]
  },
  {
   "cell_type": "code",
   "execution_count": 30,
   "metadata": {},
   "outputs": [],
   "source": [
    "newS= removeCharFromString(\"a\",\"that was alot of fun\")"
   ]
  },
  {
   "cell_type": "code",
   "execution_count": 31,
   "metadata": {},
   "outputs": [
    {
     "ename": "AssertionError",
     "evalue": "",
     "output_type": "error",
     "traceback": [
      "\u001b[0;31m---------------------------------------------------------------------------\u001b[0m",
      "\u001b[0;31mAssertionError\u001b[0m                            Traceback (most recent call last)",
      "\u001b[0;32m<ipython-input-31-a7c72c96cfe0>\u001b[0m in \u001b[0;36m<module>\u001b[0;34m\u001b[0m\n\u001b[1;32m      1\u001b[0m \u001b[0;31m# run this assert, if you function works correctly, it won't return\u001b[0m\u001b[0;34m\u001b[0m\u001b[0;34m\u001b[0m\u001b[0m\n\u001b[1;32m      2\u001b[0m \u001b[0;31m# an AssertionError\u001b[0m\u001b[0;34m\u001b[0m\u001b[0;34m\u001b[0m\u001b[0m\n\u001b[0;32m----> 3\u001b[0;31m \u001b[0;32massert\u001b[0m\u001b[0;34m(\u001b[0m\u001b[0mremoveCharFromString\u001b[0m\u001b[0;34m(\u001b[0m\u001b[0;34m\"a\"\u001b[0m\u001b[0;34m,\u001b[0m \u001b[0;34m\"that was fun\"\u001b[0m\u001b[0;34m)\u001b[0m \u001b[0;34m==\u001b[0m \u001b[0;34m\"tht ws lot of fun\"\u001b[0m\u001b[0;34m)\u001b[0m\u001b[0;34m\u001b[0m\u001b[0m\n\u001b[0m",
      "\u001b[0;31mAssertionError\u001b[0m: "
     ]
    }
   ],
   "source": [
    "# TESTING\n",
    "# run this assert, if you function works correctly, it won't return \n",
    "# an AssertionError\n",
    "assert(removeCharFromString(\"a\", \"that was fun\") == \"tht ws lot of fun\")"
   ]
  },
  {
   "cell_type": "markdown",
   "metadata": {},
   "source": [
    "## Task : find and replace\n",
    "\n",
    "Now write another function that will find a character in a string an replace it with another character that the user chooses. Adapt your code for ```removeCharFromString``` to achieve this"
   ]
  },
  {
   "cell_type": "code",
   "execution_count": 29,
   "metadata": {},
   "outputs": [],
   "source": [
    "def findReplaceChar(findCh, replaceCh, s):\n",
    "    \n",
    "    return s"
   ]
  },
  {
   "cell_type": "code",
   "execution_count": 32,
   "metadata": {},
   "outputs": [],
   "source": [
    "newS= findReplaceChar(\"a\", \"b\", \"that was alot of fun\")"
   ]
  },
  {
   "cell_type": "code",
   "execution_count": 38,
   "metadata": {},
   "outputs": [
    {
     "ename": "AssertionError",
     "evalue": "",
     "output_type": "error",
     "traceback": [
      "\u001b[0;31m---------------------------------------------------------------------------\u001b[0m",
      "\u001b[0;31mAssertionError\u001b[0m                            Traceback (most recent call last)",
      "\u001b[0;32m<ipython-input-38-3071dbab50ca>\u001b[0m in \u001b[0;36m<module>\u001b[0;34m\u001b[0m\n\u001b[1;32m      3\u001b[0m \u001b[0;31m# an AssertionError\u001b[0m\u001b[0;34m\u001b[0m\u001b[0;34m\u001b[0m\u001b[0m\n\u001b[1;32m      4\u001b[0m \u001b[0;34m\u001b[0m\u001b[0m\n\u001b[0;32m----> 5\u001b[0;31m \u001b[0;32massert\u001b[0m \u001b[0;34m(\u001b[0m\u001b[0mfindReplaceChar\u001b[0m\u001b[0;34m(\u001b[0m\u001b[0;34m\"a\"\u001b[0m\u001b[0;34m,\u001b[0m \u001b[0;34m\"b\"\u001b[0m\u001b[0;34m,\u001b[0m \u001b[0;34m\"that was alot of fun\"\u001b[0m\u001b[0;34m)\u001b[0m \u001b[0;34m==\u001b[0m \u001b[0;34m\"thbt wbs blot of fun\"\u001b[0m\u001b[0;34m)\u001b[0m\u001b[0;34m\u001b[0m\u001b[0m\n\u001b[0m",
      "\u001b[0;31mAssertionError\u001b[0m: "
     ]
    }
   ],
   "source": [
    "# TESTING\n",
    "# run this assert, if you function works correctly, it won't return \n",
    "# an AssertionError\n",
    "\n",
    "assert (findReplaceChar(\"a\", \"b\", \"that was alot of fun\") == \"thbt wbs blot of fun\")"
   ]
  },
  {
   "cell_type": "markdown",
   "metadata": {},
   "source": [
    "## Writing lists to files in python\n",
    "\n",
    "Once you have manipulated your list of strings, you'll want to save the content of the list back into a file. This sample code shows you how:"
   ]
  },
  {
   "cell_type": "code",
   "execution_count": 51,
   "metadata": {},
   "outputs": [],
   "source": [
    "wordList = ['one','two','three']\n",
    "f = open('output.txt', 'w')\n",
    "f.writelines(wordList)\n",
    "f.close()"
   ]
  },
  {
   "cell_type": "markdown",
   "metadata": {},
   "source": [
    "## what happened? Look at your folder structure\n",
    "\n",
    "*your answer here*"
   ]
  },
  {
   "cell_type": "code",
   "execution_count": 49,
   "metadata": {},
   "outputs": [],
   "source": [
    "# now use your skills to write each word, one by one, on a new line in the file.\n"
   ]
  }
 ],
 "metadata": {
  "kernelspec": {
   "display_name": "Python 3",
   "language": "python",
   "name": "python3"
  },
  "language_info": {
   "codemirror_mode": {
    "name": "ipython",
    "version": 3
   },
   "file_extension": ".py",
   "mimetype": "text/x-python",
   "name": "python",
   "nbconvert_exporter": "python",
   "pygments_lexer": "ipython3",
   "version": "3.7.1"
  }
 },
 "nbformat": 4,
 "nbformat_minor": 2
}
